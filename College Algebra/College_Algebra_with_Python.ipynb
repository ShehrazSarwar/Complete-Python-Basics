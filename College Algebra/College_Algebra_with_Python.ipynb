{
  "nbformat": 4,
  "nbformat_minor": 0,
  "metadata": {
    "colab": {
      "provenance": [],
      "toc_visible": true,
      "collapsed_sections": [
        "OFezn1E3U8dU",
        "ikhgzUiPVH3T",
        "eKuwcZgKflLD",
        "nMbv8rNgCkLW"
      ]
    },
    "kernelspec": {
      "name": "python3",
      "display_name": "Python 3"
    },
    "language_info": {
      "name": "python"
    }
  },
  "cells": [
    {
      "cell_type": "markdown",
      "source": [
        "# Alg 001"
      ],
      "metadata": {
        "id": "OFezn1E3U8dU"
      }
    },
    {
      "cell_type": "code",
      "source": [
        "print(3+4)"
      ],
      "metadata": {
        "colab": {
          "base_uri": "https://localhost:8080/"
        },
        "id": "HEBt1DhMVCAA",
        "outputId": "8e08db39-d3ed-4424-e354-e7d5915462b8"
      },
      "execution_count": null,
      "outputs": [
        {
          "output_type": "stream",
          "name": "stdout",
          "text": [
            "7\n"
          ]
        }
      ]
    },
    {
      "cell_type": "markdown",
      "source": [
        "# Alg 003 (Proportions)\n",
        "n1/d1 = n2/d2"
      ],
      "metadata": {
        "id": "ikhgzUiPVH3T"
      }
    },
    {
      "cell_type": "code",
      "source": [
        "# Put a zero in for the unknown value\n",
        "n1 = 1\n",
        "d1 = 2\n",
        "n2 = 4\n",
        "d2 = 0\n",
        "\n",
        "if n2 == 0:\n",
        "    answer = d2 * n1 / d1\n",
        "    print(\"n2 =\",answer)\n",
        "\n",
        "if d2 == 0:\n",
        "    answer = n2 * d1 / n1\n",
        "    print(\"d2 =\",answer)\n",
        "\n"
      ],
      "metadata": {
        "colab": {
          "base_uri": "https://localhost:8080/"
        },
        "id": "r98gWaCDVQNO",
        "outputId": "4f02e58a-f4d6-43fc-fffb-a186a6e6f989"
      },
      "execution_count": null,
      "outputs": [
        {
          "output_type": "stream",
          "name": "stdout",
          "text": [
            "d2 = 8.0\n"
          ]
        }
      ]
    },
    {
      "cell_type": "markdown",
      "source": [
        "# Alg 006 (Solve for X)"
      ],
      "metadata": {
        "id": "eKuwcZgKflLD"
      }
    },
    {
      "cell_type": "code",
      "source": [
        "import sympy\n",
        "from sympy import symbols\n",
        "from sympy.solvers import solve\n",
        "\n",
        "x = symbols('X')\n",
        "\n",
        "# Put the equation here\n",
        "eq = x**2 - 4\n",
        "\n",
        "print(\"x =\", solve(eq,x))\n"
      ],
      "metadata": {
        "id": "mFZGsfQ7frki",
        "colab": {
          "base_uri": "https://localhost:8080/"
        },
        "outputId": "78f3e46b-21db-42a4-fec2-2999515bae74"
      },
      "execution_count": null,
      "outputs": [
        {
          "output_type": "stream",
          "name": "stdout",
          "text": [
            "x = [-2, 2]\n"
          ]
        }
      ]
    },
    {
      "cell_type": "markdown",
      "source": [
        "# Alg 006 (Extras)\n",
        "\n",
        "\n"
      ],
      "metadata": {
        "id": "nMbv8rNgCkLW"
      }
    },
    {
      "cell_type": "markdown",
      "source": [
        "User input equation"
      ],
      "metadata": {
        "id": "nxG6ZOTpRN5X"
      }
    },
    {
      "cell_type": "code",
      "source": [
        "import sympy\n",
        "from sympy import symbols\n",
        "from sympy.solvers import solve\n",
        "\n",
        "x = symbols('x')\n",
        "\n",
        "# Put the equation here\n",
        "eq = input('Enter equation: 0 = ')\n",
        "\n",
        "print(\"x =\", solve(eq,x))\n"
      ],
      "metadata": {
        "id": "H7Kr5lxlCs0r",
        "colab": {
          "base_uri": "https://localhost:8080/"
        },
        "outputId": "a617aae0-4a77-4612-c8f0-d5c9ab59df9f"
      },
      "execution_count": null,
      "outputs": [
        {
          "output_type": "stream",
          "name": "stdout",
          "text": [
            "Enter equation: 0 = 3*x-1\n",
            "x = [1/3]\n"
          ]
        }
      ]
    },
    {
      "cell_type": "markdown",
      "source": [
        "For multiple answers"
      ],
      "metadata": {
        "id": "AUoEXB8MRHLw"
      }
    },
    {
      "cell_type": "code",
      "source": [
        "from sympy import symbols,solve  #another way of importing\n",
        "\n",
        "x = symbols('x')\n",
        "\n",
        "# Two different ways to get the equation\n",
        "eq = input('Enter equation: 0 = ')\n",
        "# eq = 2*x - 4\n",
        "\n",
        "solution = solve(eq,x)\n",
        "# Since we know we can iterate through a list in Python\n",
        "for s in solution:\n",
        "    print(\"x =\", s)\n"
      ],
      "metadata": {
        "colab": {
          "base_uri": "https://localhost:8080/"
        },
        "id": "s_QSrh2dMo2-",
        "outputId": "861a5a0c-075b-4d75-e3b9-bed412029e98"
      },
      "execution_count": null,
      "outputs": [
        {
          "output_type": "stream",
          "name": "stdout",
          "text": [
            "Enter equation: 0 = (x-1)*(x+2)*(x-3)\n",
            "x = -2\n",
            "x = 1\n",
            "x = 3\n"
          ]
        }
      ]
    },
    {
      "cell_type": "markdown",
      "source": [
        "Solving in other ways"
      ],
      "metadata": {
        "id": "hT8-E2HcRVjv"
      }
    },
    {
      "cell_type": "code",
      "source": [
        "from sympy import *\n",
        "\n",
        "x, y = symbols('x y')\n",
        "\n",
        "# First equation set equal to zero, ready to solve\n",
        "# first = 2*x + 10\n",
        "first = 2*x + 10 - y\n",
        "\n",
        "# Sympy syntax for equation equal to zero or any symbol, ready to factor\n",
        "# eq1 = Eq(first,y)\n",
        "eq1 = Eq(first,0)\n",
        "\n",
        "# Sympy solve for x\n",
        "sol = solve(eq1,x)\n",
        "\n",
        "for s in sol:\n",
        "    print(\"x =\",s)\n"
      ],
      "metadata": {
        "colab": {
          "base_uri": "https://localhost:8080/"
        },
        "id": "dB7ucia7RchV",
        "outputId": "447efe3e-c71e-4045-d66c-8d2fa984bbf7"
      },
      "execution_count": null,
      "outputs": [
        {
          "output_type": "stream",
          "name": "stdout",
          "text": [
            "x = y/2 - 5\n"
          ]
        }
      ]
    },
    {
      "cell_type": "markdown",
      "source": [
        "Factoring using sympy"
      ],
      "metadata": {
        "id": "S94bth1tVQ15"
      }
    },
    {
      "cell_type": "code",
      "source": [
        "# If only import sympy then use sympy.factor() & sympy.symbols\n",
        "from sympy import symbols,factor\n",
        "\n",
        "x, y = symbols('x y')\n",
        "\n",
        "# Equation set equal to zero, ready to solve\n",
        "# eq = 2*x + 10*y + 4\n",
        "eq = x**3 - 2*x**2 - 5*x + 6\n",
        "\n",
        "factor(eq) #In IDE we need to use print()\n"
      ],
      "metadata": {
        "colab": {
          "base_uri": "https://localhost:8080/",
          "height": 39
        },
        "id": "wJJQFApCVUSs",
        "outputId": "90650132-0e83-458c-c71d-e35eb8bbda7a"
      },
      "execution_count": null,
      "outputs": [
        {
          "output_type": "execute_result",
          "data": {
            "text/plain": [
              "(x - 3)*(x - 1)*(x + 2)"
            ],
            "text/latex": "$\\displaystyle \\left(x - 3\\right) \\left(x - 1\\right) \\left(x + 2\\right)$"
          },
          "metadata": {},
          "execution_count": 52
        }
      ]
    },
    {
      "cell_type": "markdown",
      "source": [
        "Fraction / Input Solution"
      ],
      "metadata": {
        "id": "phLpCTjcZnTK"
      }
    },
    {
      "cell_type": "code",
      "source": [
        "# converts string input (even fractions) to float\n",
        "def string_frac(in_string):\n",
        "    if \"/\" in in_string:\n",
        "        nd = in_string.split(\"/\")\n",
        "        n = float(nd[0])\n",
        "        d = float(nd[1])\n",
        "        ans = n/d\n",
        "        return ans\n",
        "    else:\n",
        "        ans = float(in_string)\n",
        "        return ans\n",
        "\n",
        "number = input(\"Enter number: \")\n",
        "print(string_frac(number))"
      ],
      "metadata": {
        "colab": {
          "base_uri": "https://localhost:8080/"
        },
        "id": "dTb4kd2iZrRu",
        "outputId": "893dfc3b-6eae-4703-cee4-0b4077c7b1cd"
      },
      "execution_count": null,
      "outputs": [
        {
          "output_type": "stream",
          "name": "stdout",
          "text": [
            "Enter number: 4/5\n",
            "0.8\n"
          ]
        }
      ]
    },
    {
      "cell_type": "markdown",
      "source": [
        "One Step Multiplication"
      ],
      "metadata": {
        "id": "p7I4hDhyaqY-"
      }
    },
    {
      "cell_type": "code",
      "source": [
        "import random\n",
        "\n",
        "# converts string input (even fractions) to float, that means 4/5 etc\n",
        "def string_frac(in_string):\n",
        "    if \"/\" in in_string:\n",
        "        nd = in_string.split(\"/\")\n",
        "        n = float(nd[0])\n",
        "        d = float(nd[1])\n",
        "        ans = n/d\n",
        "        return ans\n",
        "    else:\n",
        "        ans = float(in_string)\n",
        "        return ans\n",
        "\n",
        "# One-step multiply\n",
        "def one_step_mult():\n",
        "    # Uses string_frac(<input string>)\n",
        "    a = random.randint(1,11)\n",
        "    b = random.randint(2,24)\n",
        "    print(a, \"x = \", b)\n",
        "    print(\"Round your answer to two decimal places.\")\n",
        "    ans_in = (input(\"x = \"))\n",
        "    answer = round(b/a,2)\n",
        "    # test\n",
        "    if string_frac(ans_in)==answer:\n",
        "        print(\"Correct! \\n\")\n",
        "    else:\n",
        "        print(\"Try again\")\n",
        "        print(\"The correct answer is \", answer, \"\\n\")\n",
        "\n",
        "one_step_mult()\n",
        "\n"
      ],
      "metadata": {
        "colab": {
          "base_uri": "https://localhost:8080/"
        },
        "id": "SFajWdtVas_R",
        "outputId": "6a9bb335-ad61-4f9d-dc43-0e3e3671769e"
      },
      "execution_count": null,
      "outputs": [
        {
          "output_type": "stream",
          "name": "stdout",
          "text": [
            "5 x =  10\n",
            "Round your answer to two decimal places.\n",
            "x = 10/5\n",
            "Correct! \n",
            "\n"
          ]
        }
      ]
    },
    {
      "cell_type": "markdown",
      "source": [
        "# Alg 007 (Fractions and Decimals)"
      ],
      "metadata": {
        "id": "Hapui2xkdUPA"
      }
    },
    {
      "cell_type": "markdown",
      "source": [
        "Positive and Negative exponents"
      ],
      "metadata": {
        "id": "er5c7JXMdc30"
      }
    },
    {
      "cell_type": "code",
      "source": [
        "print(10**1)\n",
        "print(10**2)\n",
        "print(10**3)\n",
        "\n",
        "print(10**0)\n",
        "\n",
        "print(10**-1)\n",
        "print(10**-2)\n",
        "print(10**-3)"
      ],
      "metadata": {
        "colab": {
          "base_uri": "https://localhost:8080/"
        },
        "id": "Ze1-yijwdkN1",
        "outputId": "a42e1f58-fa5b-4ecb-d55d-d0125e34e4ab"
      },
      "execution_count": 1,
      "outputs": [
        {
          "output_type": "stream",
          "name": "stdout",
          "text": [
            "10\n",
            "100\n",
            "1000\n",
            "1\n",
            "0.1\n",
            "0.01\n",
            "0.001\n"
          ]
        }
      ]
    },
    {
      "cell_type": "markdown",
      "source": [
        "User input comes in as a string. You can find the length of the string"
      ],
      "metadata": {
        "id": "064k0_vGeiDo"
      }
    },
    {
      "cell_type": "code",
      "source": [
        "text = input('Enter a number: ')\n",
        "print(text)\n",
        "\n",
        "print(len(text))"
      ],
      "metadata": {
        "colab": {
          "base_uri": "https://localhost:8080/"
        },
        "id": "4tjk1bUCerrO",
        "outputId": "b3273c4b-1b9b-4154-c48c-5599b0f78609"
      },
      "execution_count": 2,
      "outputs": [
        {
          "output_type": "stream",
          "name": "stdout",
          "text": [
            "Enter a number: .123\n",
            ".123\n",
            "4\n"
          ]
        }
      ]
    },
    {
      "cell_type": "markdown",
      "source": [
        "Cast input as a float or int value"
      ],
      "metadata": {
        "id": "zVxz3nUte7de"
      }
    },
    {
      "cell_type": "code",
      "source": [
        "text = input('Enter a number: ')\n",
        "num = float(text)\n",
        "print(num + 4)"
      ],
      "metadata": {
        "colab": {
          "base_uri": "https://localhost:8080/"
        },
        "id": "qWDBYvTEe_Gh",
        "outputId": "724b2fc6-2a9c-46bc-f2e1-c8e0c6782abe"
      },
      "execution_count": 3,
      "outputs": [
        {
          "output_type": "stream",
          "name": "stdout",
          "text": [
            "Enter a number: .123\n",
            "4.123\n"
          ]
        }
      ]
    },
    {
      "cell_type": "markdown",
      "source": [
        "Now put it all together"
      ],
      "metadata": {
        "id": "cProH46QfRSj"
      }
    },
    {
      "cell_type": "code",
      "source": [
        "# Get string input, which will include a decimal point\n",
        "digits = input(\"Enter a decimal number to convert: \")\n",
        "\n",
        "# Get number of decimal places as an integer\n",
        "exponent = int(len(digits)) - 1\n",
        "\n",
        "# Convert the input to a float number\n",
        "n = float(digits)\n",
        "\n",
        "# Use the exponent to get the numerator\n",
        "numerator = int(n * 10**exponent)\n",
        "\n",
        "# Use the exponent to get the denominator\n",
        "denominator = 10**exponent\n",
        "\n",
        "# percent is the first two decimal places\n",
        "percent = n * 100\n",
        "\n",
        "# Outputs:\n",
        "print(\"The decimal is \", n)\n",
        "print(\"The fraction is \", numerator, \"/\", denominator)\n",
        "print(\"The percent is \", percent, \"%\")"
      ],
      "metadata": {
        "colab": {
          "base_uri": "https://localhost:8080/"
        },
        "id": "TS0PSIb6faw0",
        "outputId": "46718bfd-828f-449c-aab4-968d2d7490bc"
      },
      "execution_count": 5,
      "outputs": [
        {
          "output_type": "stream",
          "name": "stdout",
          "text": [
            "Enter a decimal number to convert: .2\n",
            "The decimal is  0.2\n",
            "The fraction is  2 / 10\n",
            "The percent is  20.0 %\n"
          ]
        }
      ]
    }
  ]
}